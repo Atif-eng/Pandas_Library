{
 "cells": [
  {
   "cell_type": "markdown",
   "id": "9b8a59dd",
   "metadata": {},
   "source": [
    "# Series using pandas library"
   ]
  },
  {
   "cell_type": "code",
   "execution_count": 1,
   "id": "1273b2a9",
   "metadata": {},
   "outputs": [],
   "source": [
    "import pandas as pd"
   ]
  },
  {
   "cell_type": "markdown",
   "id": "4cf1745e",
   "metadata": {},
   "source": [
    "`Series using list`"
   ]
  },
  {
   "cell_type": "code",
   "execution_count": 2,
   "id": "8c97f584",
   "metadata": {},
   "outputs": [
    {
     "name": "stdout",
     "output_type": "stream",
     "text": [
      "0    4\n",
      "1    6\n",
      "2    7\n",
      "3    8\n",
      "4    9\n",
      "dtype: int64\n",
      "<class 'pandas.core.series.Series'>\n"
     ]
    }
   ],
   "source": [
    "# Series function give us data with its index\n",
    "x=[4,6,7,8,9]\n",
    "var=pd.Series(x)\n",
    "print(var)\n",
    "print(type(var))"
   ]
  },
  {
   "cell_type": "code",
   "execution_count": 3,
   "id": "7a66fbad",
   "metadata": {},
   "outputs": [
    {
     "name": "stdout",
     "output_type": "stream",
     "text": [
      "8\n"
     ]
    }
   ],
   "source": [
    "print(var[3])"
   ]
  },
  {
   "cell_type": "markdown",
   "id": "6acfd2fd",
   "metadata": {},
   "source": [
    "`Change Index`"
   ]
  },
  {
   "cell_type": "code",
   "execution_count": 4,
   "id": "b0a74c86",
   "metadata": {},
   "outputs": [
    {
     "name": "stdout",
     "output_type": "stream",
     "text": [
      "a    4.0\n",
      "b    6.0\n",
      "c    7.0\n",
      "d    8.0\n",
      "e    9.0\n",
      "Name: Python, dtype: float32\n"
     ]
    }
   ],
   "source": [
    "var=pd.Series(x,index=['a','b','c','d','e'],dtype='f',name=\"Python\")\n",
    "print(var)"
   ]
  },
  {
   "cell_type": "markdown",
   "id": "1e451cf0",
   "metadata": {},
   "source": [
    "`Dictionary`"
   ]
  },
  {
   "cell_type": "code",
   "execution_count": 5,
   "id": "49baf7a8",
   "metadata": {},
   "outputs": [
    {
     "data": {
      "text/plain": [
       "Name    [Python, Java, C++]\n",
       "Rank              [1, 2, 3]\n",
       "ppt            [11, 22, 13]\n",
       "dtype: object"
      ]
     },
     "execution_count": 5,
     "metadata": {},
     "output_type": "execute_result"
    }
   ],
   "source": [
    "dict={\"Name\":[\"Python\",'Java','C++'],\n",
    "      \"Rank\":[1,2,3],\n",
    "      \"ppt\":[11,22,13]}\n",
    "x=pd.Series(dict)\n",
    "x"
   ]
  },
  {
   "cell_type": "markdown",
   "id": "7af7bfa5",
   "metadata": {},
   "source": [
    "`Single value Series`"
   ]
  },
  {
   "cell_type": "code",
   "execution_count": 6,
   "id": "bf854702",
   "metadata": {},
   "outputs": [
    {
     "name": "stdout",
     "output_type": "stream",
     "text": [
      "0    50\n",
      "dtype: int64\n"
     ]
    }
   ],
   "source": [
    "#for single value we also make a series like\n",
    "single=pd.Series(50)\n",
    "print(single)"
   ]
  },
  {
   "cell_type": "code",
   "execution_count": 7,
   "id": "36975176",
   "metadata": {},
   "outputs": [
    {
     "name": "stdout",
     "output_type": "stream",
     "text": [
      "1    50\n",
      "2    50\n",
      "3    50\n",
      "4    50\n",
      "5    50\n",
      "6    50\n",
      "dtype: int64\n"
     ]
    }
   ],
   "source": [
    "s1=pd.Series(50,index=[1,2,3,4,5,6])\n",
    "print(s1)"
   ]
  },
  {
   "cell_type": "markdown",
   "id": "90b923a5",
   "metadata": {},
   "source": [
    "`Arthimetic operation`"
   ]
  },
  {
   "cell_type": "code",
   "execution_count": 8,
   "id": "c6d14d4e",
   "metadata": {},
   "outputs": [
    {
     "name": "stdout",
     "output_type": "stream",
     "text": [
      "1    100.0\n",
      "2    100.0\n",
      "3    100.0\n",
      "4    100.0\n",
      "5      NaN\n",
      "6      NaN\n",
      "dtype: float64\n"
     ]
    }
   ],
   "source": [
    "s1=pd.Series(50,index=[1,2,3,4,5,6])\n",
    "s2=pd.Series(50,index=[1,2,3,4])\n",
    "print(s1+s2)"
   ]
  },
  {
   "cell_type": "markdown",
   "id": "15194a77",
   "metadata": {},
   "source": [
    "# Indexing"
   ]
  },
  {
   "cell_type": "code",
   "execution_count": 11,
   "id": "2a040395",
   "metadata": {},
   "outputs": [
    {
     "name": "stdout",
     "output_type": "stream",
     "text": [
      "   s  a\n",
      "0  1  5\n",
      "1  2  6\n",
      "2  3  7\n",
      "3  4  8\n"
     ]
    }
   ],
   "source": [
    "d={\"s\":pd.Series([1,2,3,4]),\"a\":pd.Series([5,6,7,8])}\n",
    "b=pd.DataFrame(d)\n",
    "print(b)"
   ]
  },
  {
   "cell_type": "code",
   "execution_count": 12,
   "id": "35c6aaf0",
   "metadata": {},
   "outputs": [
    {
     "name": "stdout",
     "output_type": "stream",
     "text": [
      "4\n"
     ]
    }
   ],
   "source": [
    "print(b[\"s\"][3])"
   ]
  },
  {
   "cell_type": "code",
   "execution_count": null,
   "id": "3de5fa22",
   "metadata": {},
   "outputs": [],
   "source": []
  }
 ],
 "metadata": {
  "kernelspec": {
   "display_name": "Python 3",
   "language": "python",
   "name": "python3"
  },
  "language_info": {
   "codemirror_mode": {
    "name": "ipython",
    "version": 3
   },
   "file_extension": ".py",
   "mimetype": "text/x-python",
   "name": "python",
   "nbconvert_exporter": "python",
   "pygments_lexer": "ipython3",
   "version": "3.12.6"
  }
 },
 "nbformat": 4,
 "nbformat_minor": 5
}
